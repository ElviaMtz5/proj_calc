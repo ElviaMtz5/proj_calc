{
 "cells": [
  {
   "cell_type": "code",
   "execution_count": 1,
   "metadata": {},
   "outputs": [],
   "source": [
    "def get_fractions(valor):\n",
    "    \"\"\"\n",
    "\n",
    "    Args:\n",
    "      valor: valor de entrada, puede ser una fracción o un número entero.\n",
    "\n",
    "    Returns:La fucnion regresa un valor entero o flotante en caso de que el valor sea fracción\n",
    "\n",
    "    \"\"\"\n",
    "    numero = 0\n",
    "    try:\n",
    "        if(isinstance(valor, str)):\n",
    "            print(valor)\n",
    "            if \"/\" in valor:\n",
    "                arr = valor.split(\"/\")\n",
    "                numerador = arr[0]\n",
    "                denominador = arr[1]\n",
    "                numero = float(numerador) / float(denominador)\n",
    "            else:\n",
    "                numero = float(valor)\n",
    "        if(isinstance(valor, int) or isinstance(valor, float)):\n",
    "            numero = valor\n",
    "    except:\n",
    "        print(\"Error de formato de numero\")\n",
    "    return numero\n"
   ]
  },
  {
   "cell_type": "code",
   "execution_count": 2,
   "metadata": {},
   "outputs": [
    {
     "name": "stdout",
     "output_type": "stream",
     "text": [
      "Writing funciones.py\n"
     ]
    }
   ],
   "source": [
    "%%writefile funciones.py\n",
    "def get_fractions(valor):\n",
    "    \"\"\"\n",
    "\n",
    "    Args:\n",
    "      valor: valor de entrada, puede ser una fracción o un número entero.\n",
    "\n",
    "    Returns:La fucnion regresa un valor entero o flotante en caso de que el valor sea fracción\n",
    "\n",
    "    \"\"\"\n",
    "    numero = 0\n",
    "    try:\n",
    "        if(isinstance(valor, str)):\n",
    "            print(valor)\n",
    "            if \"/\" in valor:\n",
    "                arr = valor.split(\"/\")\n",
    "                numerador = arr[0]\n",
    "                denominador = arr[1]\n",
    "                numero = float(numerador) / float(denominador)\n",
    "            else:\n",
    "                numero = float(valor)\n",
    "        if(isinstance(valor, int) or isinstance(valor, float)):\n",
    "            numero = valor\n",
    "    except:\n",
    "        print(\"Error de formato de numero\")\n",
    "    return numero"
   ]
  },
  {
   "cell_type": "code",
   "execution_count": 9,
   "metadata": {},
   "outputs": [
    {
     "name": "stdout",
     "output_type": "stream",
     "text": [
      "Overwriting test_practicas.py\n"
     ]
    }
   ],
   "source": [
    "%%writefile test_practicas.py\n",
    "import funciones as tf\n",
    "\n",
    "def test_fet_functions():\n",
    "    assert tf.get_fractions(\"1/5\")==0.20\n",
    "\n",
    "def test_fet_functions1():\n",
    "    assert tf.get_fractions(\"3/4\")==0.75\n",
    "\n",
    "def test_fet_functions2():\n",
    "    assert tf.get_fractions(\"3\")==3"
   ]
  },
  {
   "cell_type": "code",
   "execution_count": 10,
   "metadata": {},
   "outputs": [
    {
     "name": "stdout",
     "output_type": "stream",
     "text": [
      "============================= test session starts =============================\n",
      "platform win32 -- Python 3.9.10, pytest-7.1.1, pluggy-1.0.0 -- C:\\Users\\mtzel\\AppData\\Local\\Programs\\Python\\Python39\\python.exe\n",
      "cachedir: .pytest_cache\n",
      "rootdir: c:\\Users\\mtzel\\Diplomado\\proj_calc\\tests\\unit\n",
      "collecting ... collected 3 items\n",
      "\n",
      "test_practicas.py::test_fet_functions PASSED                             [ 33%]\n",
      "test_practicas.py::test_fet_functions1 PASSED                            [ 66%]\n",
      "test_practicas.py::test_fet_functions2 PASSED                            [100%]\n",
      "\n",
      "============================== 3 passed in 0.02s ==============================\n"
     ]
    }
   ],
   "source": [
    "!pytest test_practicas.py -v"
   ]
  },
  {
   "cell_type": "code",
   "execution_count": null,
   "metadata": {},
   "outputs": [],
   "source": []
  }
 ],
 "metadata": {
  "interpreter": {
   "hash": "bb9f406c0f70fca9801e60f2cbb7cd1ccff2ae2f74c58f513340bcf6cae5ecd0"
  },
  "kernelspec": {
   "display_name": "Python 3.8.5 ('base')",
   "language": "python",
   "name": "python3"
  },
  "language_info": {
   "codemirror_mode": {
    "name": "ipython",
    "version": 3
   },
   "file_extension": ".py",
   "mimetype": "text/x-python",
   "name": "python",
   "nbconvert_exporter": "python",
   "pygments_lexer": "ipython3",
   "version": "3.8.12"
  },
  "orig_nbformat": 4
 },
 "nbformat": 4,
 "nbformat_minor": 2
}
